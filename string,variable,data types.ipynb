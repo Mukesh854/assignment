{
 "cells": [
  {
   "cell_type": "markdown",
   "id": "4fb0b55d-9e47-45a3-97f0-3754ba2c18ef",
   "metadata": {},
   "source": [
    "hi sir, this is mukesh patil and this is my first assignment sorry for delay because i got to know about it very late sorry for that sir.\n"
   ]
  },
  {
   "cell_type": "markdown",
   "id": "d53a4f0e-cf74-47d1-a25a-b516e2bc8813",
   "metadata": {},
   "source": [
    "Q1. Create one variable containing following type of data:\n",
    "(i) string\n",
    "(ii) list\n",
    "(iii) float\n",
    "(iv) tuple"
   ]
  },
  {
   "cell_type": "code",
   "execution_count": 2,
   "id": "bd415253-7754-4e58-99e1-694877fd39d9",
   "metadata": {},
   "outputs": [],
   "source": [
    "#ans of this question\n",
    "\n",
    "var1=\"hey my name is mukesh patil.\"\n",
    "\n",
    "var2=[\"virat\",\"dhoni\",\"dhawan\",\"yuvraj\"]\n",
    "\n",
    "var3=23.5\n",
    "\n",
    "var4=(\"mukesh\",\"abhay\",\"vansh\",\"rohit\",\"deepak\")\n",
    "\n"
   ]
  },
  {
   "cell_type": "markdown",
   "id": "59407504-07f7-4664-b35a-e7f8bd2462f1",
   "metadata": {},
   "source": [
    "Q2. Given are some following variables containing data:\n",
    "(i) var1 = ‘ ‘\n",
    "(ii) var2 = ‘[ DS , ML , Python]’\n",
    "(iii) var3 = [ ‘DS’ , ’ML’ , ‘Python’ ]\n",
    "(iv) var4 = 1.\n",
    "What will be the data type of the above given variable."
   ]
  },
  {
   "cell_type": "markdown",
   "id": "c81ee2fc-112d-4c6e-a2c0-eded7e28c4ee",
   "metadata": {},
   "source": [
    "the first one is string \n",
    "the second is also string\n",
    "third is list\n",
    "fourth is float"
   ]
  },
  {
   "cell_type": "markdown",
   "id": "de3cb4b8-429f-45e1-ae1b-bbee2c48150f",
   "metadata": {},
   "source": [
    "Q3. Explain the use of the following operators using an example:\n",
    "(i) /\n",
    "(ii) %\n",
    "(iii) //\n",
    "(iv) **"
   ]
  },
  {
   "cell_type": "code",
   "execution_count": 5,
   "id": "2d3bafdc-b603-464b-8056-d2ed44b4d139",
   "metadata": {},
   "outputs": [
    {
     "data": {
      "text/plain": [
       "25.0"
      ]
     },
     "execution_count": 5,
     "metadata": {},
     "output_type": "execute_result"
    }
   ],
   "source": [
    "# / this division operator and it is used to divide numbers example of this is below\n",
    "muk1=50/2\n",
    "muk1"
   ]
  },
  {
   "cell_type": "code",
   "execution_count": 6,
   "id": "0d7ee6ee-04a0-46b3-a340-98cb39b2557c",
   "metadata": {},
   "outputs": [
    {
     "data": {
      "text/plain": [
       "2"
      ]
     },
     "execution_count": 6,
     "metadata": {},
     "output_type": "execute_result"
    }
   ],
   "source": [
    "# % this is modulus operator it only returns the remainder.\n",
    "div=5%3\n",
    "div"
   ]
  },
  {
   "cell_type": "code",
   "execution_count": 8,
   "id": "00cdd630-6443-4be9-b8bf-41a12b0ab0ab",
   "metadata": {},
   "outputs": [
    {
     "data": {
      "text/plain": [
       "2"
      ]
     },
     "execution_count": 8,
     "metadata": {},
     "output_type": "execute_result"
    }
   ],
   "source": [
    "#  // this is  floor division operator removes the float integer.\n",
    "x1=15//6\n",
    "x1"
   ]
  },
  {
   "cell_type": "code",
   "execution_count": 9,
   "id": "e06f1308-df40-442f-94d4-db47f8b936c2",
   "metadata": {},
   "outputs": [
    {
     "data": {
      "text/plain": [
       "15"
      ]
     },
     "execution_count": 9,
     "metadata": {},
     "output_type": "execute_result"
    }
   ],
   "source": [
    "# ** this operator is called exponential suppose if is print(5**3) so it works as 5*5*5\n",
    "\n",
    "x2=5*3\n",
    "x2"
   ]
  },
  {
   "cell_type": "markdown",
   "id": "6214a73b-9522-48e7-a382-7f9f13577bcf",
   "metadata": {},
   "source": [
    "Q4. Create a list of length 10 of your choice containing multiple types of data. Using for loop print the\n",
    "element and its data type."
   ]
  },
  {
   "cell_type": "code",
   "execution_count": 9,
   "id": "114a6005-f48a-406c-ac7b-efd5752f2b48",
   "metadata": {},
   "outputs": [
    {
     "data": {
      "text/plain": [
       "['mukesh',\n",
       " 3.24,\n",
       " True,\n",
       " [1, 5, 7],\n",
       " 56,\n",
       " {'name': 'bada', 'age': 30},\n",
       " None,\n",
       " (4, 6, 8),\n",
       " 5.7,\n",
       " False]"
      ]
     },
     "execution_count": 9,
     "metadata": {},
     "output_type": "execute_result"
    }
   ],
   "source": [
    "X=[\"mukesh\",3.24,True,[1,5,7],56,{\"name\":\"bada\",\"age\":30},None,(4,6,8),5.7 ,False]\n",
    "X"
   ]
  },
  {
   "cell_type": "code",
   "execution_count": 14,
   "id": "b6f91379-ed00-40a0-91f1-4a6a1ba64079",
   "metadata": {},
   "outputs": [
    {
     "name": "stdout",
     "output_type": "stream",
     "text": [
      "list:['mukesh', 3.24, True, [1, 5, 7], 56, {'name': 'bada', 'age': 30}, None, (4, 6, 8), 5.7, False],data types:<class 'str'>\n",
      "list:['mukesh', 3.24, True, [1, 5, 7], 56, {'name': 'bada', 'age': 30}, None, (4, 6, 8), 5.7, False],data types:<class 'float'>\n",
      "list:['mukesh', 3.24, True, [1, 5, 7], 56, {'name': 'bada', 'age': 30}, None, (4, 6, 8), 5.7, False],data types:<class 'bool'>\n",
      "list:['mukesh', 3.24, True, [1, 5, 7], 56, {'name': 'bada', 'age': 30}, None, (4, 6, 8), 5.7, False],data types:<class 'list'>\n",
      "list:['mukesh', 3.24, True, [1, 5, 7], 56, {'name': 'bada', 'age': 30}, None, (4, 6, 8), 5.7, False],data types:<class 'int'>\n",
      "list:['mukesh', 3.24, True, [1, 5, 7], 56, {'name': 'bada', 'age': 30}, None, (4, 6, 8), 5.7, False],data types:<class 'dict'>\n",
      "list:['mukesh', 3.24, True, [1, 5, 7], 56, {'name': 'bada', 'age': 30}, None, (4, 6, 8), 5.7, False],data types:<class 'NoneType'>\n",
      "list:['mukesh', 3.24, True, [1, 5, 7], 56, {'name': 'bada', 'age': 30}, None, (4, 6, 8), 5.7, False],data types:<class 'tuple'>\n",
      "list:['mukesh', 3.24, True, [1, 5, 7], 56, {'name': 'bada', 'age': 30}, None, (4, 6, 8), 5.7, False],data types:<class 'float'>\n",
      "list:['mukesh', 3.24, True, [1, 5, 7], 56, {'name': 'bada', 'age': 30}, None, (4, 6, 8), 5.7, False],data types:<class 'bool'>\n"
     ]
    }
   ],
   "source": [
    "for item in X:\n",
    "    print(f\"list:{X},data types:{type(item)}\")"
   ]
  },
  {
   "cell_type": "markdown",
   "id": "e40072cc-d49d-488d-878e-636d8d007ab8",
   "metadata": {},
   "source": [
    "Q5. Using a while loop, verify if the number A is purely divisible by number B and if so then how many\n",
    "times it can be divisible."
   ]
  },
  {
   "cell_type": "code",
   "execution_count": 17,
   "id": "1bcdea79-6e77-401b-b0a8-d1b1f1d9ab64",
   "metadata": {},
   "outputs": [
    {
     "name": "stdin",
     "output_type": "stream",
     "text": [
      "Enter the number A:  12\n",
      "Enter the number B:  3\n"
     ]
    },
    {
     "name": "stdout",
     "output_type": "stream",
     "text": [
      "12 is divisible by 3 and can be divided 1 times.\n"
     ]
    }
   ],
   "source": [
    "def count_divisions(A, B):\n",
    "    count = 0\n",
    "\n",
    "    while A % B == 0:\n",
    "        A //= B  \n",
    "        count += 1\n",
    "\n",
    "    return count\n",
    "\n",
    "\n",
    "A = int(input(\"Enter the number A: \"))\n",
    "B = int(input(\"Enter the number B: \"))\n",
    "\n",
    "if B == 0:\n",
    "    print(\"Cannot divide by zero.\")\n",
    "else:\n",
    "    divisible = count_divisions(A, B)\n",
    "    print(f\"{A} is divisible by {B} and can be divided {divisible} times.\")"
   ]
  },
  {
   "cell_type": "markdown",
   "id": "1d87e3ef-018d-426f-becb-4686cd57e285",
   "metadata": {},
   "source": [
    "Q6. Create a list containing 25 int type data. Using for loop and if-else condition print if the element is\n",
    "divisible by 3 or not.\n"
   ]
  },
  {
   "cell_type": "markdown",
   "id": "615958d6-93ec-4a5f-a417-a95a7ce2bf4f",
   "metadata": {},
   "source": [
    "\n",
    "data_list = [i for i in range(1, 26)]\n",
    "\n",
    "\n",
    "for num in data_list:\n",
    "    if num % 3 == 0:\n",
    "        print(f\"{num} is divisible by 3.\")\n",
    "    else:\n",
    "        print(f\"{num} is not divisible by 3.\")\n",
    "        "
   ]
  },
  {
   "cell_type": "markdown",
   "id": "49f7263b-88b8-4e24-8367-0eeaeda90925",
   "metadata": {},
   "source": [
    "Q7. What do you understand about mutable and immutable data types? Give examples for both showing\n",
    "this property.\n"
   ]
  },
  {
   "cell_type": "raw",
   "id": "76146c02-759d-42d3-81bc-b70985335b34",
   "metadata": {},
   "source": [
    "mutable :- in easy language mutable means we can make change in them and there values can be modified after they are created.\n",
    "example\n"
   ]
  },
  {
   "cell_type": "code",
   "execution_count": 19,
   "id": "1f6c9c2a-78cf-4edf-9245-994dddd2e17e",
   "metadata": {},
   "outputs": [
    {
     "data": {
      "text/plain": [
       "20"
      ]
     },
     "execution_count": 19,
     "metadata": {},
     "output_type": "execute_result"
    }
   ],
   "source": [
    "# list is the best example of mutable data types\n",
    "list=[\"mukesh\",20,\"vansh\"]\n",
    "list[1]"
   ]
  },
  {
   "cell_type": "code",
   "execution_count": 20,
   "id": "7db69b8a-dd8b-4fdb-ae76-e38da2fc78f9",
   "metadata": {},
   "outputs": [
    {
     "data": {
      "text/plain": [
       "['mukesh', 40, 'vansh']"
      ]
     },
     "execution_count": 20,
     "metadata": {},
     "output_type": "execute_result"
    }
   ],
   "source": [
    "list[1]=40\n",
    "list"
   ]
  },
  {
   "cell_type": "code",
   "execution_count": 21,
   "id": "f8f4af6a-0cfa-442e-a8ba-27bc4901b875",
   "metadata": {},
   "outputs": [],
   "source": [
    "#as you can see i changed the list"
   ]
  },
  {
   "cell_type": "raw",
   "id": "18a10a81-4e5e-450d-abb2-3d879c5f6d5c",
   "metadata": {},
   "source": [
    "immutable:- Immutable data types are those whose values cannot be changed after they are created. If you need to modify the value you need to create a new object.\n",
    "example"
   ]
  },
  {
   "cell_type": "code",
   "execution_count": 22,
   "id": "9e446bd7-f6ce-48e4-a2fc-b42f153aac23",
   "metadata": {},
   "outputs": [
    {
     "name": "stdout",
     "output_type": "stream",
     "text": [
      "mukesh\n",
      "abhay\n"
     ]
    }
   ],
   "source": [
    "# string is the best and easy example of immutable data type\n",
    "name=\"mukesh\"\n",
    "print(name)\n",
    "\n",
    "name=\"abhay\"\n",
    "print(name)"
   ]
  },
  {
   "cell_type": "raw",
   "id": "8dff216f-5e96-4d7a-b259-829e224cc66b",
   "metadata": {},
   "source": [
    "as you can see i tried to change the string but it is not possible to change the immutable data dtypes like this."
   ]
  }
 ],
 "metadata": {
  "kernelspec": {
   "display_name": "Python 3 (ipykernel)",
   "language": "python",
   "name": "python3"
  },
  "language_info": {
   "codemirror_mode": {
    "name": "ipython",
    "version": 3
   },
   "file_extension": ".py",
   "mimetype": "text/x-python",
   "name": "python",
   "nbconvert_exporter": "python",
   "pygments_lexer": "ipython3",
   "version": "3.10.8"
  }
 },
 "nbformat": 4,
 "nbformat_minor": 5
}
